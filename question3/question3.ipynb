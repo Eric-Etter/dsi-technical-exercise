{
 "cells": [
  {
   "cell_type": "markdown",
   "metadata": {},
   "source": [
    "# DSI Technical Exercise, Question 3"
   ]
  },
  {
   "cell_type": "markdown",
   "metadata": {},
   "source": [
    "## Business Case Study for Experiment and Analysis\n",
    " \n",
    "\n",
    "   * A consumer posts a **request** for a service needed. Every request is in some   **category**    (e.g., Catering, Personal Training, Interior Design) and some **location** (e.g., New York, San Francisco).  \n",
    "   * We match the request up with appropriate service providers and send each of those providers an **invite** to quote on the request.     \n",
    "   * Providers view the invite and some choose to send a **quote** to the consumer expressing interest.\n"
   ]
  },
  {
   "cell_type": "markdown",
   "metadata": {},
   "source": [
    "## Split Test (or A/B/n)  Experimental Design and Test Results\n",
    "\n",
    "\n",
    "I've just concluded a test of our *quote form*. After receiving an invite, service providers come to the quote form to view the consumer request and choose whether or not to pay to send a quote. My goal was to determine if certain changes to the design of the form would cause more providers to send a quote after coming to the page.\n",
    "\n",
    "Over the course of a week, I divided invites from about 3000 requests among four new variations of the quote form as well as the baseline form we've been using for the last year. Here are my results:\n",
    "\n",
    "  * Baseline: 32 quotes out of 595 viewers\n",
    "  * Variation 1: 30 quotes out of 599 viewers\n",
    "  * Variation 2: 18 quotes out of 622 viewers\n",
    "  * Variation 3: 51 quotes out of 606 viewers\n",
    "  * Variation 4: 38 quotes out of 578 viewers\n",
    "  "
   ]
  },
  {
   "cell_type": "markdown",
   "metadata": {},
   "source": [
    "## Split Test (or A/B/n) Analysis\n"
   ]
  },
  {
   "cell_type": "markdown",
   "metadata": {},
   "source": [
    "#### Analytical Assumptions\n",
    "\n",
    "As population inferences will be made using the sample statistics generated as part of the test execution these assumptions must be made: the sample statistic distribution is approximately normal, the samples are independant, and the sample size is significantly large.\n",
    "\n",
    "The significance level, or $\\alpha$, will be 5% for this analysis.\n"
   ]
  },
  {
   "cell_type": "markdown",
   "metadata": {},
   "source": [
    "#### Experimental Design\n",
    "\n",
    "The summary of the experimental design overview indicates human involvement with the assignment of service providers and a particular summary page.  Further discussion is needed to ensure that the assignment process is sufficiently randomize."
   ]
  },
  {
   "cell_type": "code",
   "execution_count": 34,
   "metadata": {},
   "outputs": [],
   "source": [
    "# import standard libraries for analytical work\n",
    "import pandas as pd\n",
    "import statsmodels.api as sms"
   ]
  },
  {
   "cell_type": "code",
   "execution_count": 35,
   "metadata": {},
   "outputs": [
    {
     "data": {
      "text/html": [
       "<div>\n",
       "<style scoped>\n",
       "    .dataframe tbody tr th:only-of-type {\n",
       "        vertical-align: middle;\n",
       "    }\n",
       "\n",
       "    .dataframe tbody tr th {\n",
       "        vertical-align: top;\n",
       "    }\n",
       "\n",
       "    .dataframe thead th {\n",
       "        text-align: right;\n",
       "    }\n",
       "</style>\n",
       "<table border=\"1\" class=\"dataframe\">\n",
       "  <thead>\n",
       "    <tr style=\"text-align: right;\">\n",
       "      <th></th>\n",
       "      <th>Bucket</th>\n",
       "      <th>Quotes</th>\n",
       "      <th>Views</th>\n",
       "    </tr>\n",
       "  </thead>\n",
       "  <tbody>\n",
       "    <tr>\n",
       "      <th>0</th>\n",
       "      <td>Baseline</td>\n",
       "      <td>32</td>\n",
       "      <td>595</td>\n",
       "    </tr>\n",
       "    <tr>\n",
       "      <th>1</th>\n",
       "      <td>Variation 1</td>\n",
       "      <td>30</td>\n",
       "      <td>599</td>\n",
       "    </tr>\n",
       "    <tr>\n",
       "      <th>2</th>\n",
       "      <td>Variation 2</td>\n",
       "      <td>18</td>\n",
       "      <td>622</td>\n",
       "    </tr>\n",
       "    <tr>\n",
       "      <th>3</th>\n",
       "      <td>Variation 3</td>\n",
       "      <td>51</td>\n",
       "      <td>606</td>\n",
       "    </tr>\n",
       "    <tr>\n",
       "      <th>4</th>\n",
       "      <td>Variation 4</td>\n",
       "      <td>38</td>\n",
       "      <td>578</td>\n",
       "    </tr>\n",
       "  </tbody>\n",
       "</table>\n",
       "</div>"
      ],
      "text/plain": [
       "        Bucket  Quotes  Views\n",
       "0     Baseline      32    595\n",
       "1  Variation 1      30    599\n",
       "2  Variation 2      18    622\n",
       "3  Variation 3      51    606\n",
       "4  Variation 4      38    578"
      ]
     },
     "execution_count": 35,
     "metadata": {},
     "output_type": "execute_result"
    }
   ],
   "source": [
    "# load csv test results into a dataframe\n",
    "df = pd.read_csv(\"./test_data/acme_corp.csv\")\n",
    "# take a look at the dataframe\n",
    "df.head()"
   ]
  },
  {
   "cell_type": "markdown",
   "metadata": {},
   "source": [
    "#### The Hypotheses"
   ]
  },
  {
   "cell_type": "markdown",
   "metadata": {},
   "source": [
    "The A/B/n (or Split Test) testing analysis is a controlled experiment leveraging hypothesis statements. Let's go ahead and document all four null/alternative statements.\n",
    "\n",
    "Null and alternative hypothesis for the controlled experiment of the variation 1 of the submittal page versus the baseline or existing submittal page.\n",
    "\n",
    "$H_{0}: \\pi_{variation1} - \\pi_{baseline} = 0$  \n",
    "$H_{a}: \\pi_{variation1} - \\pi_{baseline} \\gt 0$\n",
    "\n",
    "Null and alternative hypothesis for the controlled experiment of the variation 2 of the submittal page versus the baseline or existing submittal page.\n",
    "\n",
    "$H_{0}: \\pi_{variation2} - \\pi_{baseline} = 0$  \n",
    "$H_{a}: \\pi_{variation2} - \\pi_{baseline} \\gt 0$\n",
    "\n",
    "Null and alternative hypothesis for the controlled experiment of the variation 3 of the submittal page versus the baseline or existing submittal page.\n",
    "\n",
    "$H_{0}: \\pi_{variation3} - \\pi_{baseline} = 0$  \n",
    "$H_{a}: \\pi_{variation3} - \\pi_{baseline} \\gt 0$\n",
    "\n",
    "Null and alternative hypothesis for the controlled experiment of the variation 4 of the submittal page versus the baseline or existing submittal page.\n",
    "\n",
    "$H_{0}: \\pi_{variation4} - \\pi_{baseline} = 0$  \n",
    "$H_{a}: \\pi_{variation4} - \\pi_{baseline} \\gt 0$\n",
    "\n",
    "Each of these null statements assert that no difference exists between the population proportion, where proportion is represented as $\\pi$.\n",
    "\n",
    "All 4 of the alternative statements assert that the population proportion is greater than the existing population proportion, where proportion is represented as $\\pi$."
   ]
  },
  {
   "cell_type": "markdown",
   "metadata": {},
   "source": [
    "#### Built-In Function \"proportions_ztest\""
   ]
  },
  {
   "cell_type": "markdown",
   "metadata": {},
   "source": [
    "The A/B/n testing analysis will utilize a built-in statsmodel function called proportions_ztest. Looking at the help page for this function several arguments are required for this calculation, which will be performed in the next cell."
   ]
  },
  {
   "cell_type": "code",
   "execution_count": 36,
   "metadata": {},
   "outputs": [
    {
     "name": "stdout",
     "output_type": "stream",
     "text": [
      "Baseline count and nobs is: 32 and 595\n",
      "Variation 1 count and nobs is: 30 and 599\n",
      "Variation 2 count and nobs is: 18 and 622\n",
      "Variation 3 count and nobs is: 51 and 606\n",
      "Variation 4 count and nobs is: 38 and 578\n"
     ]
    }
   ],
   "source": [
    "# baseline count and nobs\n",
    "baseline_df = df.query(\"Bucket == 'Baseline'\")\n",
    "baseline_count = baseline_df.Quotes.sum()\n",
    "baseline_nobs = baseline_df.Views.sum()\n",
    "print(f\"Baseline count and nobs is: {baseline_count} and {baseline_nobs}\")\n",
    "\n",
    "# variation 1 count and nobs\n",
    "variation1_df = df.query(\"Bucket == 'Variation 1'\")\n",
    "variation1_count = variation1_df.Quotes.sum()\n",
    "variation1_nobs = variation1_df.Views.sum()\n",
    "print(f\"Variation 1 count and nobs is: {variation1_count} and {variation1_nobs}\")\n",
    "\n",
    "# variation 2 count and nobs\n",
    "variation2_df = df.query(\"Bucket == 'Variation 2'\")\n",
    "variation2_count = variation2_df.Quotes.sum()\n",
    "variation2_nobs = variation2_df.Views.sum()\n",
    "print(f\"Variation 2 count and nobs is: {variation2_count} and {variation2_nobs}\")\n",
    "\n",
    "# variation 3 count and nobs\n",
    "variation3_df = df.query(\"Bucket == 'Variation 3'\")\n",
    "variation3_count = variation3_df.Quotes.sum()\n",
    "variation3_nobs = variation3_df.Views.sum()\n",
    "print(f\"Variation 3 count and nobs is: {variation3_count} and {variation3_nobs}\")\n",
    "\n",
    "# variation 3 count and nobs\n",
    "variation4_df = df.query(\"Bucket == 'Variation 4'\")\n",
    "variation4_count = variation4_df.Quotes.sum()\n",
    "variation4_nobs = variation4_df.Views.sum()\n",
    "print(f\"Variation 4 count and nobs is: {variation4_count} and {variation4_nobs}\")"
   ]
  },
  {
   "cell_type": "code",
   "execution_count": 37,
   "metadata": {},
   "outputs": [
    {
     "name": "stdout",
     "output_type": "stream",
     "text": [
      "The p-value for the Variation 1 and Baseline experiment is 0.6133099143530945\n",
      "The p-value for the Variation 2 and Baseline experiment is 0.9854676438929962\n",
      "The p-value for the Variation 3 and Baseline experiment is 0.018986239169411456\n",
      "The p-value for the Variation 4 and Baseline experiment is 0.19360793468873894\n"
     ]
    }
   ],
   "source": [
    "# calculate the z-score and p-value for variation1 and baseline experiment\n",
    "z_score_variation1, p_value_variation1 = sms.stats.proportions_ztest([variation1_count, baseline_count], [variation1_nobs, baseline_nobs], alternative=\"larger\")\n",
    "print(f\"The p-value for the Variation 1 and Baseline experiment is {p_value_variation1}\")\n",
    "\n",
    "# calculate the z-score and p-value for variation2 and baseline experiment\n",
    "z_score_variation2, p_value_variation2 = sms.stats.proportions_ztest([variation2_count, baseline_count], [variation2_nobs, baseline_nobs], alternative=\"larger\")\n",
    "print(f\"The p-value for the Variation 2 and Baseline experiment is {p_value_variation2}\")\n",
    "\n",
    "# calculate the z-score and p-value for variation3 and baseline experiment\n",
    "z_score_variation3, p_value_variation3 = sms.stats.proportions_ztest([variation3_count, baseline_count], [variation3_nobs, baseline_nobs], alternative=\"larger\")\n",
    "print(f\"The p-value for the Variation 3 and Baseline experiment is {p_value_variation3}\")\n",
    "\n",
    "# calculate the z-score and p-value for variation4 and baseline experiment\n",
    "z_score_variation4, p_value_variation4 = sms.stats.proportions_ztest([variation4_count, baseline_count], [variation4_nobs, baseline_nobs], alternative=\"larger\")\n",
    "print(f\"The p-value for the Variation 4 and Baseline experiment is {p_value_variation4}\")\n"
   ]
  },
  {
   "cell_type": "markdown",
   "metadata": {},
   "source": [
    "#### Conclusions\n",
    "\n",
    "The p-value for Variation 1, 2, and 4 experiment is greater than the significance level of 5% and the null hyposthesis will not be rejected.  The p-value for experiment is less than the significance level of 5% for the third variation of the submittal page, make that experiment the only variation allowing us to reject the null hypothesis.\n",
    "\n",
    "Recommending that Variation 3 of the submittal page be scheduled for installation into the production domain for customer use.\n"
   ]
  },
  {
   "cell_type": "markdown",
   "metadata": {},
   "source": [
    "#### References"
   ]
  },
  {
   "cell_type": "markdown",
   "metadata": {},
   "source": [
    "1. \"A Refresher on A/B Testing\". Retrieved from https://hbr.org/2017/06/a-refresher-on-ab-testing#\n",
    "2. \"proportions_ztest\". Retrieved from http://knowledgetack.com/python/statsmodels/proportions_ztest/\n",
    "\n"
   ]
  },
  {
   "cell_type": "code",
   "execution_count": null,
   "metadata": {},
   "outputs": [],
   "source": []
  }
 ],
 "metadata": {
  "kernelspec": {
   "display_name": "Python [default]",
   "language": "python",
   "name": "python3"
  },
  "language_info": {
   "codemirror_mode": {
    "name": "ipython",
    "version": 3
   },
   "file_extension": ".py",
   "mimetype": "text/x-python",
   "name": "python",
   "nbconvert_exporter": "python",
   "pygments_lexer": "ipython3",
   "version": "3.6.4"
  }
 },
 "nbformat": 4,
 "nbformat_minor": 2
}
